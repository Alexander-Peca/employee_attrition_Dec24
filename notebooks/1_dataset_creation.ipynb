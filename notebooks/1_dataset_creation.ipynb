{
 "cells": [
  {
   "cell_type": "code",
   "execution_count": 1,
   "metadata": {},
   "outputs": [],
   "source": [
    "import pandas as pd\n",
    "import numpy as np\n",
    "import random\n",
    "import matplotlib.pyplot as plt\n",
    "import seaborn as sns\n",
    "import os"
   ]
  },
  {
   "cell_type": "code",
   "execution_count": null,
   "metadata": {},
   "outputs": [],
   "source": [
    "# Set random seed for reproducibility\n",
    "np.random.seed(42)\n",
    "random.seed(42)\n",
    "\n",
    "# Number of employees\n",
    "num_employees = 5000\n",
    "\n",
    "# Define Likert scale (1-5) weights for engagement levels\n",
    "def generate_likert_scores(engagement_level=\"mixed\"):\n",
    "    \"\"\"\n",
    "    Generates Likert scale scores (1 to 5) based on the engagement level:\n",
    "    - High: More likely to have scores of 4 and 5 (positive engagement).\n",
    "    - Low: More likely to have scores of 1 and 2 (negative engagement).\n",
    "    - Mixed: Balanced distribution across all scores, with emphasis on neutral responses.\n",
    "    \"\"\"\n",
    "    if engagement_level == \"high\":\n",
    "        return np.random.choice([4, 5], p=[0.4, 0.6])\n",
    "    elif engagement_level == \"low\":\n",
    "        return np.random.choice([1, 2], p=[0.6, 0.4])\n",
    "    else:  # Mixed engagement\n",
    "        return np.random.choice([1, 2, 3, 4, 5], p=[0.15, 0.15, 0.3, 0.25, 0.15])\n",
    "\n",
    "# Generate survey responses (Q1-Q16)\n",
    "def generate_q16_responses(engagement_level):\n",
    "    \"\"\"\n",
    "    Generates responses to the Gallup Q12+ employee engagement survey based on the specified engagement level.\n",
    "    The Q12+ survey consists of 16 standardized statements measuring key aspects of employee engagement.\n",
    "    \"\"\"\n",
    "    return [generate_likert_scores(engagement_level) for _ in range(16)]\n",
    "\n",
    "# Generate demographics and workplace metrics\n",
    "def generate_employee_data(emp_id):\n",
    "    \"\"\"\n",
    "    Generates synthetic data for a single employee, including demographic, workplace, and engagement data.\n",
    "    Adjusts distributions based on realistic assumptions for the IT industry.\n",
    "    \"\"\"\n",
    "    # Age distribution centered around 35-45 years\n",
    "    age = int(np.random.normal(40, 7))\n",
    "    age = max(22, min(60, age))  # Ensure age stays within 22 to 60\n",
    "\n",
    "    # Tenure concentrated around 0-5 years\n",
    "    tenure = int(np.random.normal(3, 2))\n",
    "    tenure = max(0, min(age - 20, tenure))  # Ensure tenure is non-negative and realistic\n",
    "\n",
    "    gender = random.choices(['Male', 'Female'], weights=[0.7, 0.3])[0]  # 70% Male, 30% Female\n",
    "    department = random.choices(['Development', 'Support', 'QA', 'DevOps', 'Management'], \n",
    "                                weights=[0.4, 0.2, 0.15, 0.15, 0.1])[0]\n",
    "\n",
    "    # Salary distribution peaking around $95,000-$100,000\n",
    "    salary = int(np.random.normal(95000, 15000))\n",
    "    salary = max(50000, min(150000, salary))  # Ensure salary stays within realistic bounds\n",
    "\n",
    "    # Overtime assumption: 30% of employees work overtime\n",
    "    overtime = random.choices(['Yes', 'No'], weights=[0.3, 0.7])[0]\n",
    "\n",
    "    # Distance to work with 35% remote workers\n",
    "    if np.random.random() < 0.35:\n",
    "        distance_to_work = 0  # Remote worker\n",
    "    else:\n",
    "        distance_to_work = abs(np.random.normal(15, 10))  # Normally distributed distance\n",
    "\n",
    "    # Determine engagement level to influence attrition\n",
    "    engagement_level = random.choices([\"high\", \"low\", \"mixed\"], weights=[0.3, 0.4, 0.3])[0]\n",
    "    q16_scores = generate_q16_responses(engagement_level)\n",
    "\n",
    "    # Attrition probability based on engagement\n",
    "    if engagement_level == \"high\":\n",
    "        attrition = np.random.choice([\"Yes\", \"No\"], p=[0.1, 0.9])\n",
    "    elif engagement_level == \"low\":\n",
    "        attrition = np.random.choice([\"Yes\", \"No\"], p=[0.6, 0.4])\n",
    "    else:  # Mixed engagement\n",
    "        attrition = np.random.choice([\"Yes\", \"No\"], p=[0.3, 0.7])\n",
    "\n",
    "    # Return all data as a dictionary\n",
    "    return {\n",
    "        'Employee_ID': emp_id,\n",
    "        'Q1': q16_scores[0], 'Q2': q16_scores[1], 'Q3': q16_scores[2], 'Q4': q16_scores[3],\n",
    "        'Q5': q16_scores[4], 'Q6': q16_scores[5], 'Q7': q16_scores[6], 'Q8': q16_scores[7],\n",
    "        'Q9': q16_scores[8], 'Q10': q16_scores[9], 'Q11': q16_scores[10], 'Q12': q16_scores[11],\n",
    "        'Q13': q16_scores[12], 'Q14': q16_scores[13], 'Q15': q16_scores[14], 'Q16': q16_scores[15],\n",
    "        'Age': age, 'Tenure': tenure, 'Gender': gender, 'Department': department,\n",
    "        'Salary': salary, 'Overtime': overtime, 'Distance_to_Work': round(distance_to_work, 2),\n",
    "        'Attrition': attrition\n",
    "    }\n",
    "\n",
    "# Generate the dataset\n",
    "data = [generate_employee_data(emp_id) for emp_id in range(1, num_employees + 1)]\n",
    "\n",
    "# Convert to DataFrame\n",
    "df = pd.DataFrame(data)\n",
    "\n"
   ]
  },
  {
   "cell_type": "code",
   "execution_count": 3,
   "metadata": {},
   "outputs": [
    {
     "name": "stdout",
     "output_type": "stream",
     "text": [
      "Synthetic IT dataset saved to '../data/employee_attrition_synthetic_IT.csv'\n"
     ]
    }
   ],
   "source": [
    "# Define the relative path for saving the file\n",
    "output_path = \"../data/employee_attrition_synthetic_IT.csv\"\n",
    "\n",
    "# Save the dataset\n",
    "df.to_csv(output_path, index=False)\n",
    "print(f\"Synthetic IT dataset saved to '{output_path}'\")"
   ]
  },
  {
   "cell_type": "code",
   "execution_count": null,
   "metadata": {},
   "outputs": [],
   "source": [
    "# The dataset can be found at Kaggle: https://www.kaggle.com/datasets/alexanderpeca/employee-attrition-it-sector-synthetic-data"
   ]
  }
 ],
 "metadata": {
  "kernelspec": {
   "display_name": "employee_attrition_dec24",
   "language": "python",
   "name": "python3"
  },
  "language_info": {
   "codemirror_mode": {
    "name": "ipython",
    "version": 3
   },
   "file_extension": ".py",
   "mimetype": "text/x-python",
   "name": "python",
   "nbconvert_exporter": "python",
   "pygments_lexer": "ipython3",
   "version": "3.9.21"
  }
 },
 "nbformat": 4,
 "nbformat_minor": 2
}
