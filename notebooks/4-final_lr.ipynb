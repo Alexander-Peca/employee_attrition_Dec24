{
 "cells": [
  {
   "cell_type": "markdown",
   "metadata": {},
   "source": [
    "# Final: Logistic Regression"
   ]
  },
  {
   "cell_type": "markdown",
   "metadata": {},
   "source": [
    "# Libraries"
   ]
  },
  {
   "cell_type": "code",
   "execution_count": 1,
   "metadata": {},
   "outputs": [
    {
     "name": "stderr",
     "output_type": "stream",
     "text": [
      "c:\\Users\\alexa\\anaconda3\\envs\\employee_attrition_dec24\\lib\\site-packages\\tqdm\\auto.py:21: TqdmWarning: IProgress not found. Please update jupyter and ipywidgets. See https://ipywidgets.readthedocs.io/en/stable/user_install.html\n",
      "  from .autonotebook import tqdm as notebook_tqdm\n"
     ]
    }
   ],
   "source": [
    "# Libraries\n",
    "\n",
    "# Standard\n",
    "import pandas as pd\n",
    "import numpy as np\n",
    "import random\n",
    "import matplotlib.pyplot as plt\n",
    "import seaborn as sns\n",
    "pd.set_option('display.max_columns', None)\n",
    "\n",
    "\n",
    "# Preprocessing\n",
    "from sklearn.model_selection import train_test_split\n",
    "from sklearn.compose import ColumnTransformer\n",
    "from sklearn.preprocessing import OneHotEncoder\n",
    "from sklearn.preprocessing import LabelEncoder\n",
    "from sklearn.preprocessing import RobustScaler\n",
    "from imblearn.over_sampling import SMOTE\n",
    "from sklearn.utils import shuffle\n",
    "\n",
    "# Modeling\n",
    "\n",
    "from sklearn.linear_model import LogisticRegression\n",
    "from sklearn.metrics import classification_report, confusion_matrix, roc_auc_score, precision_recall_curve\n",
    "from sklearn.metrics import precision_score, recall_score, f1_score\n",
    "\n",
    "# Hyperparameter tuning\n",
    "from sklearn.model_selection import GridSearchCV\n",
    "\n",
    "# Cross validation\n",
    "\n",
    "from sklearn.model_selection import cross_val_score\n",
    "\n",
    "# Feature importance\n",
    "import shap \n",
    "\n",
    "# Saving models\n",
    "\n",
    "import joblib\n",
    "import os"
   ]
  },
  {
   "cell_type": "markdown",
   "metadata": {},
   "source": [
    "## Dataset"
   ]
  },
  {
   "cell_type": "code",
   "execution_count": 2,
   "metadata": {},
   "outputs": [
    {
     "name": "stdout",
     "output_type": "stream",
     "text": [
      "'Employee_ID' column removed.\n"
     ]
    },
    {
     "data": {
      "text/html": [
       "<div>\n",
       "<style scoped>\n",
       "    .dataframe tbody tr th:only-of-type {\n",
       "        vertical-align: middle;\n",
       "    }\n",
       "\n",
       "    .dataframe tbody tr th {\n",
       "        vertical-align: top;\n",
       "    }\n",
       "\n",
       "    .dataframe thead th {\n",
       "        text-align: right;\n",
       "    }\n",
       "</style>\n",
       "<table border=\"1\" class=\"dataframe\">\n",
       "  <thead>\n",
       "    <tr style=\"text-align: right;\">\n",
       "      <th></th>\n",
       "      <th>Q1</th>\n",
       "      <th>Q2</th>\n",
       "      <th>Q3</th>\n",
       "      <th>Q4</th>\n",
       "      <th>Q5</th>\n",
       "      <th>Q6</th>\n",
       "      <th>Q7</th>\n",
       "      <th>Q8</th>\n",
       "      <th>Q9</th>\n",
       "      <th>Q10</th>\n",
       "      <th>Q11</th>\n",
       "      <th>Q12</th>\n",
       "      <th>Q13</th>\n",
       "      <th>Q14</th>\n",
       "      <th>Q15</th>\n",
       "      <th>Q16</th>\n",
       "      <th>Age</th>\n",
       "      <th>Tenure</th>\n",
       "      <th>Gender</th>\n",
       "      <th>Department</th>\n",
       "      <th>Salary</th>\n",
       "      <th>Overtime</th>\n",
       "      <th>Distance_to_Work</th>\n",
       "      <th>Attrition</th>\n",
       "    </tr>\n",
       "  </thead>\n",
       "  <tbody>\n",
       "    <tr>\n",
       "      <th>0</th>\n",
       "      <td>4</td>\n",
       "      <td>4</td>\n",
       "      <td>5</td>\n",
       "      <td>5</td>\n",
       "      <td>5</td>\n",
       "      <td>4</td>\n",
       "      <td>5</td>\n",
       "      <td>5</td>\n",
       "      <td>4</td>\n",
       "      <td>4</td>\n",
       "      <td>4</td>\n",
       "      <td>4</td>\n",
       "      <td>5</td>\n",
       "      <td>5</td>\n",
       "      <td>4</td>\n",
       "      <td>5</td>\n",
       "      <td>43</td>\n",
       "      <td>2</td>\n",
       "      <td>Male</td>\n",
       "      <td>Development</td>\n",
       "      <td>104715</td>\n",
       "      <td>Yes</td>\n",
       "      <td>0.00</td>\n",
       "      <td>No</td>\n",
       "    </tr>\n",
       "    <tr>\n",
       "      <th>1</th>\n",
       "      <td>5</td>\n",
       "      <td>5</td>\n",
       "      <td>4</td>\n",
       "      <td>5</td>\n",
       "      <td>4</td>\n",
       "      <td>4</td>\n",
       "      <td>5</td>\n",
       "      <td>5</td>\n",
       "      <td>5</td>\n",
       "      <td>4</td>\n",
       "      <td>4</td>\n",
       "      <td>5</td>\n",
       "      <td>5</td>\n",
       "      <td>4</td>\n",
       "      <td>5</td>\n",
       "      <td>4</td>\n",
       "      <td>50</td>\n",
       "      <td>1</td>\n",
       "      <td>Female</td>\n",
       "      <td>QA</td>\n",
       "      <td>73815</td>\n",
       "      <td>No</td>\n",
       "      <td>8.71</td>\n",
       "      <td>No</td>\n",
       "    </tr>\n",
       "    <tr>\n",
       "      <th>2</th>\n",
       "      <td>1</td>\n",
       "      <td>1</td>\n",
       "      <td>1</td>\n",
       "      <td>2</td>\n",
       "      <td>2</td>\n",
       "      <td>2</td>\n",
       "      <td>2</td>\n",
       "      <td>1</td>\n",
       "      <td>2</td>\n",
       "      <td>1</td>\n",
       "      <td>1</td>\n",
       "      <td>1</td>\n",
       "      <td>1</td>\n",
       "      <td>1</td>\n",
       "      <td>1</td>\n",
       "      <td>2</td>\n",
       "      <td>44</td>\n",
       "      <td>4</td>\n",
       "      <td>Male</td>\n",
       "      <td>Development</td>\n",
       "      <td>76687</td>\n",
       "      <td>Yes</td>\n",
       "      <td>0.00</td>\n",
       "      <td>Yes</td>\n",
       "    </tr>\n",
       "    <tr>\n",
       "      <th>3</th>\n",
       "      <td>2</td>\n",
       "      <td>2</td>\n",
       "      <td>1</td>\n",
       "      <td>1</td>\n",
       "      <td>2</td>\n",
       "      <td>2</td>\n",
       "      <td>2</td>\n",
       "      <td>2</td>\n",
       "      <td>1</td>\n",
       "      <td>1</td>\n",
       "      <td>1</td>\n",
       "      <td>2</td>\n",
       "      <td>2</td>\n",
       "      <td>1</td>\n",
       "      <td>1</td>\n",
       "      <td>1</td>\n",
       "      <td>42</td>\n",
       "      <td>0</td>\n",
       "      <td>Male</td>\n",
       "      <td>Development</td>\n",
       "      <td>99861</td>\n",
       "      <td>No</td>\n",
       "      <td>0.00</td>\n",
       "      <td>Yes</td>\n",
       "    </tr>\n",
       "    <tr>\n",
       "      <th>4</th>\n",
       "      <td>5</td>\n",
       "      <td>5</td>\n",
       "      <td>5</td>\n",
       "      <td>5</td>\n",
       "      <td>5</td>\n",
       "      <td>5</td>\n",
       "      <td>5</td>\n",
       "      <td>4</td>\n",
       "      <td>4</td>\n",
       "      <td>4</td>\n",
       "      <td>5</td>\n",
       "      <td>4</td>\n",
       "      <td>5</td>\n",
       "      <td>5</td>\n",
       "      <td>4</td>\n",
       "      <td>5</td>\n",
       "      <td>37</td>\n",
       "      <td>4</td>\n",
       "      <td>Male</td>\n",
       "      <td>Support</td>\n",
       "      <td>115343</td>\n",
       "      <td>No</td>\n",
       "      <td>4.62</td>\n",
       "      <td>No</td>\n",
       "    </tr>\n",
       "  </tbody>\n",
       "</table>\n",
       "</div>"
      ],
      "text/plain": [
       "   Q1  Q2  Q3  Q4  Q5  Q6  Q7  Q8  Q9  Q10  Q11  Q12  Q13  Q14  Q15  Q16  Age  \\\n",
       "0   4   4   5   5   5   4   5   5   4    4    4    4    5    5    4    5   43   \n",
       "1   5   5   4   5   4   4   5   5   5    4    4    5    5    4    5    4   50   \n",
       "2   1   1   1   2   2   2   2   1   2    1    1    1    1    1    1    2   44   \n",
       "3   2   2   1   1   2   2   2   2   1    1    1    2    2    1    1    1   42   \n",
       "4   5   5   5   5   5   5   5   4   4    4    5    4    5    5    4    5   37   \n",
       "\n",
       "   Tenure  Gender   Department  Salary Overtime  Distance_to_Work Attrition  \n",
       "0       2    Male  Development  104715      Yes              0.00        No  \n",
       "1       1  Female           QA   73815       No              8.71        No  \n",
       "2       4    Male  Development   76687      Yes              0.00       Yes  \n",
       "3       0    Male  Development   99861       No              0.00       Yes  \n",
       "4       4    Male      Support  115343       No              4.62        No  "
      ]
     },
     "metadata": {},
     "output_type": "display_data"
    },
    {
     "name": "stdout",
     "output_type": "stream",
     "text": [
      "<class 'pandas.core.frame.DataFrame'>\n",
      "RangeIndex: 5000 entries, 0 to 4999\n",
      "Data columns (total 24 columns):\n",
      " #   Column            Non-Null Count  Dtype  \n",
      "---  ------            --------------  -----  \n",
      " 0   Q1                5000 non-null   int64  \n",
      " 1   Q2                5000 non-null   int64  \n",
      " 2   Q3                5000 non-null   int64  \n",
      " 3   Q4                5000 non-null   int64  \n",
      " 4   Q5                5000 non-null   int64  \n",
      " 5   Q6                5000 non-null   int64  \n",
      " 6   Q7                5000 non-null   int64  \n",
      " 7   Q8                5000 non-null   int64  \n",
      " 8   Q9                5000 non-null   int64  \n",
      " 9   Q10               5000 non-null   int64  \n",
      " 10  Q11               5000 non-null   int64  \n",
      " 11  Q12               5000 non-null   int64  \n",
      " 12  Q13               5000 non-null   int64  \n",
      " 13  Q14               5000 non-null   int64  \n",
      " 14  Q15               5000 non-null   int64  \n",
      " 15  Q16               5000 non-null   int64  \n",
      " 16  Age               5000 non-null   int64  \n",
      " 17  Tenure            5000 non-null   int64  \n",
      " 18  Gender            5000 non-null   object \n",
      " 19  Department        5000 non-null   object \n",
      " 20  Salary            5000 non-null   int64  \n",
      " 21  Overtime          5000 non-null   object \n",
      " 22  Distance_to_Work  5000 non-null   float64\n",
      " 23  Attrition         5000 non-null   object \n",
      "dtypes: float64(1), int64(19), object(4)\n",
      "memory usage: 937.6+ KB\n"
     ]
    },
    {
     "data": {
      "text/plain": [
       "None"
      ]
     },
     "metadata": {},
     "output_type": "display_data"
    }
   ],
   "source": [
    "output_path = r\"C:\\Users\\alexa\\OneDrive\\AlexPerez\\Dokumente\\2 Soros\\Data Science\\Projects\\employee_attrition_Dec24\\data\\raw\\employee_attrition_synthetic_IT.csv\"\n",
    "df= pd.read_csv(output_path)\n",
    "\n",
    "# Remove Employee_ID column\n",
    "if 'Employee_ID' in df.columns:\n",
    "    df = df.drop(columns=['Employee_ID'])\n",
    "    print(\"'Employee_ID' column removed.\")\n",
    "else:\n",
    "    print(\"'Employee_ID' column not found.\")\n",
    "\n",
    "display(df.head())\n",
    "display(df.info())"
   ]
  },
  {
   "cell_type": "code",
   "execution_count": 3,
   "metadata": {},
   "outputs": [
    {
     "name": "stdout",
     "output_type": "stream",
     "text": [
      "Train-test split completed.\n"
     ]
    }
   ],
   "source": [
    "# Separate features and target\n",
    "X = df.drop(columns=['Attrition']) \n",
    "y = df['Attrition']\n",
    "\n",
    "# Train-test split\n",
    "X_train, X_test, y_train, y_test = train_test_split(X, y, test_size=0.2, random_state=42, stratify=y)\n",
    "print(\"Train-test split completed.\")"
   ]
  },
  {
   "cell_type": "code",
   "execution_count": 4,
   "metadata": {},
   "outputs": [
    {
     "name": "stdout",
     "output_type": "stream",
     "text": [
      "Categorical variables encoded.\n"
     ]
    }
   ],
   "source": [
    "# Encoding categorical variables\n",
    "\n",
    "# Define categorical and numerical features\n",
    "categorical_features = ['Gender', 'Department', 'Overtime']\n",
    "numerical_features = ['Age', 'Tenure', 'Salary', 'Distance_to_Work']\n",
    "\n",
    "# One-Hot Encoding for categorical features\n",
    "preprocessor = ColumnTransformer(\n",
    "    transformers=[\n",
    "        ('cat', OneHotEncoder(drop='first', sparse_output=False), categorical_features)\n",
    "    ],\n",
    "    remainder='passthrough'  # Keep numerical features as they are for now\n",
    ")\n",
    "\n",
    "# Apply One-Hot Encoding on training and test sets\n",
    "X_train_encoded = preprocessor.fit_transform(X_train)\n",
    "X_test_encoded = preprocessor.transform(X_test)\n",
    "\n",
    "print(\"Categorical variables encoded.\")"
   ]
  },
  {
   "cell_type": "code",
   "execution_count": 5,
   "metadata": {},
   "outputs": [
    {
     "name": "stdout",
     "output_type": "stream",
     "text": [
      "Categories for 'Department': ['DevOps' 'Development' 'Management' 'QA' 'Support']\n"
     ]
    }
   ],
   "source": [
    "# Trying to check where DevOps is dropped\n",
    "# Inspect categories learned by the OneHotEncoder\n",
    "categories = preprocessor.named_transformers_['cat'].categories_\n",
    "\n",
    "# Print the categories for the 'Department' feature\n",
    "print(\"Categories for 'Department':\", categories[categorical_features.index('Department')])"
   ]
  },
  {
   "cell_type": "code",
   "execution_count": 6,
   "metadata": {},
   "outputs": [
    {
     "name": "stdout",
     "output_type": "stream",
     "text": [
      "Numerical features scaled using RobustScaler.\n"
     ]
    }
   ],
   "source": [
    "# Scaling numerical features\n",
    "\n",
    "# Initialize RobustScaler\n",
    "scaler = RobustScaler()\n",
    "\n",
    "# Apply RobustScaler to numerical features only\n",
    "X_train_encoded[:, -len(numerical_features):] = scaler.fit_transform(\n",
    "    X_train_encoded[:, -len(numerical_features):]\n",
    ")\n",
    "X_test_encoded[:, -len(numerical_features):] = scaler.transform(\n",
    "    X_test_encoded[:, -len(numerical_features):]\n",
    ")\n",
    "\n",
    "print(\"Numerical features scaled using RobustScaler.\")"
   ]
  },
  {
   "cell_type": "code",
   "execution_count": 7,
   "metadata": {},
   "outputs": [
    {
     "name": "stdout",
     "output_type": "stream",
     "text": [
      "All Feature Names: ['Gender_Male', 'Department_Development', 'Department_Management', 'Department_QA', 'Department_Support', 'Overtime_Yes', 'Age', 'Tenure', 'Salary', 'Distance_to_Work', 'Q1', 'Q2', 'Q3', 'Q4', 'Q5', 'Q6', 'Q7', 'Q8', 'Q9', 'Q10', 'Q11', 'Q12', 'Q13', 'Q14', 'Q15', 'Q16']\n",
      "Number of Features: 26\n",
      "One-Hot Encoded Feature Names: ['Gender_Male' 'Department_Development' 'Department_Management'\n",
      " 'Department_QA' 'Department_Support' 'Overtime_Yes']\n"
     ]
    }
   ],
   "source": [
    "# Trying to check where DevOps was dropped\n",
    "\n",
    "# Get feature names for one-hot-encoded columns\n",
    "one_hot_feature_names = preprocessor.named_transformers_['cat'].get_feature_names_out(categorical_features)\n",
    "\n",
    "# Identify the Q12+ feature names (if applicable)\n",
    "q12_features = [col for col in X.columns if col.startswith('Q')]\n",
    "\n",
    "# Combine all feature names\n",
    "all_feature_names = list(one_hot_feature_names) + numerical_features + q12_features\n",
    "\n",
    "# Verify feature names\n",
    "print(\"All Feature Names:\", all_feature_names)\n",
    "print(\"Number of Features:\", len(all_feature_names))\n",
    "\n",
    "print(\"One-Hot Encoded Feature Names:\", one_hot_feature_names)"
   ]
  },
  {
   "cell_type": "code",
   "execution_count": 8,
   "metadata": {},
   "outputs": [
    {
     "name": "stdout",
     "output_type": "stream",
     "text": [
      "Is 'Department_DevOps' present in one-hot encoded features?: False\n"
     ]
    }
   ],
   "source": [
    "# Trying to check where DevOps was dropped\n",
    "\n",
    "# Check DevOps presence in one-hot encoded columns\n",
    "print(\"Is 'Department_DevOps' present in one-hot encoded features?:\",\n",
    "      'Department_DevOps' in one_hot_feature_names)\n",
    "\n",
    "# Check the corresponding index\n",
    "if 'Department_DevOps' in one_hot_feature_names:\n",
    "    devops_index = list(one_hot_feature_names).index('Department_DevOps')\n",
    "    print(\"Index of 'Department_DevOps':\", devops_index)\n",
    "\n",
    "    # Check values in X_train_encoded\n",
    "    print(\"Values for 'Department_DevOps':\", X_train_encoded[:, devops_index])"
   ]
  },
  {
   "cell_type": "code",
   "execution_count": 9,
   "metadata": {},
   "outputs": [
    {
     "name": "stdout",
     "output_type": "stream",
     "text": [
      "SMOTE applied to training data. Classes balanced.\n",
      "Shape of X_train before SMOTE: (4000, 26)\n",
      "Shape of X_train after SMOTE: (5068, 26)\n",
      "Shape of y_train before SMOTE: (4000,)\n",
      "Shape of y_train after SMOTE: (5068,)\n"
     ]
    }
   ],
   "source": [
    "# Addressing class imbalances\n",
    "\n",
    "# Apply SMOTE to training data only\n",
    "smote = SMOTE(random_state=42)\n",
    "X_train_balanced, y_train_balanced = smote.fit_resample(X_train_encoded, y_train)\n",
    "\n",
    "# Shuffle the balanced data\n",
    "X_train_balanced, y_train_balanced = shuffle(X_train_balanced, y_train_balanced, random_state=42)\n",
    "\n",
    "print(\"SMOTE applied to training data. Classes balanced.\")\n",
    "\n",
    "# Visualizing new shape after SMOTE\n",
    "print(\"Shape of X_train before SMOTE:\", X_train_encoded.shape)\n",
    "print(\"Shape of X_train after SMOTE:\", X_train_balanced.shape)\n",
    "print(\"Shape of y_train before SMOTE:\", y_train.shape)\n",
    "print(\"Shape of y_train after SMOTE:\", y_train_balanced.shape)"
   ]
  },
  {
   "cell_type": "code",
   "execution_count": 10,
   "metadata": {},
   "outputs": [
    {
     "name": "stdout",
     "output_type": "stream",
     "text": [
      "Features before SMOTE: ['Gender_Male', 'Department_Development', 'Department_Management', 'Department_QA', 'Department_Support', 'Overtime_Yes', 'Age', 'Tenure', 'Salary', 'Distance_to_Work', 'Q1', 'Q2', 'Q3', 'Q4', 'Q5', 'Q6', 'Q7', 'Q8', 'Q9', 'Q10', 'Q11', 'Q12', 'Q13', 'Q14', 'Q15', 'Q16']\n",
      "Shape after SMOTE: (5068, 26)\n"
     ]
    }
   ],
   "source": [
    "# Trying to check where DevOps was dropped\n",
    "# Save feature names before SMOTE\n",
    "feature_names_before_smote = all_feature_names\n",
    "print(\"Features before SMOTE:\", feature_names_before_smote)\n",
    "print(\"Shape after SMOTE:\", X_train_balanced.shape)"
   ]
  },
  {
   "cell_type": "markdown",
   "metadata": {},
   "source": [
    "# Modeling : Logistic Regression"
   ]
  },
  {
   "cell_type": "code",
   "execution_count": 11,
   "metadata": {},
   "outputs": [
    {
     "name": "stdout",
     "output_type": "stream",
     "text": [
      "Logistic Regression Results:\n",
      "              precision    recall  f1-score   support\n",
      "\n",
      "          No       0.79      0.70      0.74       633\n",
      "         Yes       0.57      0.69      0.62       367\n",
      "\n",
      "    accuracy                           0.69      1000\n",
      "   macro avg       0.68      0.69      0.68      1000\n",
      "weighted avg       0.71      0.69      0.70      1000\n",
      "\n",
      "Confusion Matrix:\n",
      "[[442 191]\n",
      " [114 253]]\n",
      "ROC-AUC Score: 0.7425520100210492\n"
     ]
    }
   ],
   "source": [
    "# Train Logistic Regression\n",
    "lr_model = LogisticRegression(class_weight='balanced', max_iter=1000, random_state=42)\n",
    "lr_model.fit(X_train_balanced, y_train_balanced)\n",
    "\n",
    "# Evaluate Logistic Regression\n",
    "y_pred_lr = lr_model.predict(X_test_encoded)\n",
    "y_pred_prob_lr = lr_model.predict_proba(X_test_encoded)[:, 1]\n",
    "\n",
    "# Print Evaluation Metrics\n",
    "print(\"Logistic Regression Results:\")\n",
    "print(classification_report(y_test, y_pred_lr))\n",
    "print(\"Confusion Matrix:\")\n",
    "print(confusion_matrix(y_test, y_pred_lr))\n",
    "print(\"ROC-AUC Score:\", roc_auc_score(y_test, y_pred_prob_lr))"
   ]
  },
  {
   "cell_type": "markdown",
   "metadata": {},
   "source": [
    "Precision (No: 0.79, Yes: 0.57):\n",
    "The model performs well in identifying the majority class (No), but struggles to correctly identify the minority class (Yes), as indicated by lower precision for the \"Yes\" class.\n",
    "\n",
    "Recall (No: 0.70, Yes: 0.69):\n",
    "The recall for \"Yes\" is reasonable (0.69), meaning the model captures a significant portion of employees who left the company.\n",
    "F1-Score:\n",
    "\n",
    "The F1-score for \"Yes\" (0.62) indicates a balance between precision and recall, but it's lower than for \"No\".\n",
    "ROC-AUC: 0.74:\n",
    "\n",
    "Indicates a moderately good ability to distinguish between the two classes."
   ]
  },
  {
   "cell_type": "markdown",
   "metadata": {},
   "source": [
    "# Modeling Optimization"
   ]
  },
  {
   "cell_type": "code",
   "execution_count": 12,
   "metadata": {},
   "outputs": [
    {
     "name": "stdout",
     "output_type": "stream",
     "text": [
      "Best Parameters: {'C': 0.01, 'solver': 'saga'}\n",
      "Best ROC-AUC Score: 0.7561981207901532\n",
      "ROC-AUC on Test Set: 0.7421043342760352\n"
     ]
    }
   ],
   "source": [
    "# Logistic Regression Hyperparameter Grid\n",
    "param_grid = {\n",
    "    'C': [0.01, 0.1, 1, 10],\n",
    "    'solver': ['liblinear', 'saga']\n",
    "}\n",
    "\n",
    "grid_lr = GridSearchCV(LogisticRegression(class_weight='balanced', max_iter=1000), param_grid, cv=5, scoring='roc_auc')\n",
    "grid_lr.fit(X_train_balanced, y_train_balanced)\n",
    "\n",
    "# Best Parameters and Score\n",
    "print(\"Best Parameters:\", grid_lr.best_params_)\n",
    "print(\"Best ROC-AUC Score:\", grid_lr.best_score_)\n",
    "\n",
    "# Evaluate on Test Set\n",
    "best_lr = grid_lr.best_estimator_\n",
    "y_pred_lr = best_lr.predict(X_test_encoded)\n",
    "y_pred_prob_lr = best_lr.predict_proba(X_test_encoded)[:, 1]\n",
    "\n",
    "print(\"ROC-AUC on Test Set:\", roc_auc_score(y_test, y_pred_prob_lr))"
   ]
  },
  {
   "cell_type": "code",
   "execution_count": 13,
   "metadata": {},
   "outputs": [
    {
     "name": "stdout",
     "output_type": "stream",
     "text": [
      "Classification Report for Tuned Logistic Regression:\n",
      "              precision    recall  f1-score   support\n",
      "\n",
      "          No       0.79      0.70      0.74       633\n",
      "         Yes       0.57      0.68      0.62       367\n",
      "\n",
      "    accuracy                           0.69      1000\n",
      "   macro avg       0.68      0.69      0.68      1000\n",
      "weighted avg       0.71      0.69      0.70      1000\n",
      "\n",
      "Confusion Matrix for Tuned Logistic Regression:\n",
      "[[444 189]\n",
      " [116 251]]\n",
      "ROC-AUC Score for Tuned Logistic Regression: 0.7421043342760352\n"
     ]
    }
   ],
   "source": [
    "# Model re-run with best parameters\n",
    "\n",
    "# Re-train the Logistic Regression model with best parameters\n",
    "best_lr = LogisticRegression(C=0.01, solver='saga', class_weight='balanced', max_iter=1000)\n",
    "best_lr.fit(X_train_balanced, y_train_balanced)\n",
    "\n",
    "# Make predictions\n",
    "y_pred_best_lr = best_lr.predict(X_test_encoded)\n",
    "y_pred_prob_best_lr = best_lr.predict_proba(X_test_encoded)[:, 1]\n",
    "\n",
    "# Evaluate the model\n",
    "print(\"Classification Report for Tuned Logistic Regression:\")\n",
    "print(classification_report(y_test, y_pred_best_lr))\n",
    "\n",
    "print(\"Confusion Matrix for Tuned Logistic Regression:\")\n",
    "print(confusion_matrix(y_test, y_pred_best_lr))\n",
    "\n",
    "# Compute ROC-AUC\n",
    "roc_auc_best_lr = roc_auc_score(y_test, y_pred_prob_best_lr)\n",
    "print(\"ROC-AUC Score for Tuned Logistic Regression:\", roc_auc_best_lr)"
   ]
  },
  {
   "cell_type": "code",
   "execution_count": 14,
   "metadata": {},
   "outputs": [
    {
     "name": "stdout",
     "output_type": "stream",
     "text": [
      "Model saved at: C:\\Users\\alexa\\OneDrive\\AlexPerez\\Dokumente\\2 Soros\\Data Science\\Projects\\employee_attrition_Dec24\\models\\logistic_regression_model.pkl\n",
      "Threshold saved at: C:\\Users\\alexa\\OneDrive\\AlexPerez\\Dokumente\\2 Soros\\Data Science\\Projects\\employee_attrition_Dec24\\models\\logistic_regression_threshold.pkl\n"
     ]
    }
   ],
   "source": [
    "# Saving the model and the threshold indentified later as the best one (0.3)\n",
    "\n",
    "# Paths to save the model and threshold\n",
    "model_path = r\"C:\\Users\\alexa\\OneDrive\\AlexPerez\\Dokumente\\2 Soros\\Data Science\\Projects\\employee_attrition_Dec24\\models\\logistic_regression_model.pkl\"\n",
    "threshold_path = r\"C:\\Users\\alexa\\OneDrive\\AlexPerez\\Dokumente\\2 Soros\\Data Science\\Projects\\employee_attrition_Dec24\\models\\logistic_regression_threshold.pkl\"\n",
    "\n",
    "# Save the model\n",
    "joblib.dump(best_lr, model_path)\n",
    "print(f\"Model saved at: {model_path}\")\n",
    "\n",
    "# Save the threshold (adjusted at 0.3)\n",
    "final_threshold = 0.3\n",
    "joblib.dump(final_threshold, threshold_path)\n",
    "print(f\"Threshold saved at: {threshold_path}\")"
   ]
  },
  {
   "cell_type": "code",
   "execution_count": 15,
   "metadata": {},
   "outputs": [
    {
     "name": "stdout",
     "output_type": "stream",
     "text": [
      "All Feature Names: ['Gender_Male', 'Department_Development', 'Department_Management', 'Department_QA', 'Department_Support', 'Overtime_Yes', 'Age', 'Tenure', 'Salary', 'Distance_to_Work', 'Q1', 'Q2', 'Q3', 'Q4', 'Q5', 'Q6', 'Q7', 'Q8', 'Q9', 'Q10', 'Q11', 'Q12', 'Q13', 'Q14', 'Q15', 'Q16']\n",
      "Number of Features: 26\n"
     ]
    }
   ],
   "source": [
    "print(\"All Feature Names:\", all_feature_names)\n",
    "print(\"Number of Features:\", len(all_feature_names))"
   ]
  },
  {
   "cell_type": "markdown",
   "metadata": {},
   "source": [
    "# Logistic Regression Threshold Adjustment"
   ]
  },
  {
   "cell_type": "code",
   "execution_count": 16,
   "metadata": {},
   "outputs": [
    {
     "name": "stdout",
     "output_type": "stream",
     "text": [
      "   Threshold  Precision    Recall  F1-Score\n",
      "0        0.1   0.367000  1.000000  0.536942\n",
      "1        0.2   0.449409  0.931880  0.606383\n",
      "2        0.3   0.484581  0.899183  0.629771\n",
      "3        0.4   0.520572  0.792916  0.628510\n",
      "4        0.5   0.570455  0.683924  0.622057\n",
      "5        0.6   0.591584  0.651226  0.619974\n",
      "6        0.7   0.604027  0.490463  0.541353\n",
      "7        0.8   1.000000  0.002725  0.005435\n"
     ]
    },
    {
     "data": {
      "image/png": "[encoded data removed]",
      "text/plain": [
       "<Figure size 640x480 with 1 Axes>"
      ]
     },
     "metadata": {},
     "output_type": "display_data"
    }
   ],
   "source": [
    "le = LabelEncoder()\n",
    "y_test_encoded = le.fit_transform(y_test)  # 'No' -> 0, 'Yes' -> 1\n",
    "\n",
    "# Get predicted probabilities from the best Logistic Regression model\n",
    "y_pred_prob_lr = best_lr.predict_proba(X_test_encoded)[:, 1]\n",
    "\n",
    "# Define thresholds to evaluate\n",
    "thresholds = np.arange(0.1, 0.9, 0.1)\n",
    "results = []\n",
    "\n",
    "for threshold in thresholds:\n",
    "    # Adjust predictions based on the threshold\n",
    "    y_pred_adjusted = (y_pred_prob_lr >= threshold).astype(int)\n",
    "    \n",
    "    # Compute metrics\n",
    "    precision = precision_score(y_test_encoded, y_pred_adjusted)\n",
    "    recall = recall_score(y_test_encoded, y_pred_adjusted)\n",
    "    f1 = f1_score(y_test_encoded, y_pred_adjusted)\n",
    "    \n",
    "    results.append({\n",
    "        \"Threshold\": threshold,\n",
    "        \"Precision\": precision,\n",
    "        \"Recall\": recall,\n",
    "        \"F1-Score\": f1\n",
    "    })\n",
    "\n",
    "# Convert results to a DataFrame\n",
    "results_df = pd.DataFrame(results)\n",
    "\n",
    "# Print the results\n",
    "print(results_df)\n",
    "\n",
    "# Visualize Precision, Recall, and F1-Score\n",
    "plt.plot(results_df[\"Threshold\"], results_df[\"Precision\"], label=\"Precision\")\n",
    "plt.plot(results_df[\"Threshold\"], results_df[\"Recall\"], label=\"Recall\")\n",
    "plt.plot(results_df[\"Threshold\"], results_df[\"F1-Score\"], label=\"F1-Score\")\n",
    "plt.xlabel(\"Threshold\")\n",
    "plt.ylabel(\"Score\")\n",
    "plt.title(\"Threshold vs Precision, Recall, and F1-Score\")\n",
    "plt.legend()\n",
    "plt.show()"
   ]
  },
  {
   "cell_type": "code",
   "execution_count": 17,
   "metadata": {},
   "outputs": [
    {
     "name": "stdout",
     "output_type": "stream",
     "text": [
      "Classification Report with Adjusted Threshold:\n",
      "              precision    recall  f1-score   support\n",
      "\n",
      "           0       0.88      0.45      0.59       633\n",
      "           1       0.48      0.90      0.63       367\n",
      "\n",
      "    accuracy                           0.61      1000\n",
      "   macro avg       0.68      0.67      0.61      1000\n",
      "weighted avg       0.74      0.61      0.61      1000\n",
      "\n",
      "Confusion Matrix with Adjusted Threshold:\n",
      "[[282 351]\n",
      " [ 37 330]]\n"
     ]
    }
   ],
   "source": [
    "# Adjust the threshold\n",
    "final_threshold = 0.3\n",
    "y_pred_final = (y_pred_prob_lr >= final_threshold).astype(int)\n",
    "\n",
    "\n",
    "print(\"Classification Report with Adjusted Threshold:\")\n",
    "print(classification_report(y_test_encoded, y_pred_final))\n",
    "\n",
    "print(\"Confusion Matrix with Adjusted Threshold:\")\n",
    "print(confusion_matrix(y_test_encoded, y_pred_final))"
   ]
  },
  {
   "cell_type": "markdown",
   "metadata": {},
   "source": [
    "Interpretation:\n",
    "Recall for Attrition\n",
    "Recall = 0.90: This means 90% of employees who actually left (positive cases) were correctly identified by the model.\n",
    "Recall has significantly improved, which aligns with our business priority to capture as many attrition cases as possible.\n",
    "\n",
    "Precision for Attrition: Out of all the employees predicted to leave (Yes), only 48% were actually correct.\n",
    "The lower precision indicates more false positives — cases where the model predicted attrition (Yes), but the employee actually stayed.\n",
    "\n",
    "False Positives (predicted Yes but actual No) = 351."
   ]
  },
  {
   "cell_type": "markdown",
   "metadata": {},
   "source": [
    "# Cross Validation for the LR model"
   ]
  },
  {
   "cell_type": "code",
   "execution_count": 18,
   "metadata": {},
   "outputs": [
    {
     "name": "stdout",
     "output_type": "stream",
     "text": [
      "[CV] END .................................................... total time=   0.0s\n",
      "[CV] END .................................................... total time=   0.0s\n",
      "[CV] END .................................................... total time=   0.0s\n",
      "[CV] END .................................................... total time=   0.0s\n",
      "[CV] END .................................................... total time=   0.0s\n",
      "Cross-Validation ROC-AUC Scores: [0.74237986 0.76723893 0.73713961 0.75603215 0.77819616]\n",
      "Mean ROC-AUC Score: 0.756197342728383\n",
      "Standard Deviation of ROC-AUC Scores: 0.015231625410772038\n"
     ]
    }
   ],
   "source": [
    "# Cross-validation with the tuned logistic regression model\n",
    "cv_scores = cross_val_score(\n",
    "    estimator=best_lr,                # The tuned logistic regression model\n",
    "    X=X_train_balanced,               # Training features after preprocessing and balancing\n",
    "    y=y_train_balanced,               # Training target after balancing\n",
    "    cv=5,                             # Number of folds for cross-validation\n",
    "    scoring='roc_auc',                # Evaluation metric: ROC-AUC\n",
    "    verbose=2                         # Display progress of cross-validation\n",
    ")\n",
    "\n",
    "# Display the cross-validation results\n",
    "print(\"Cross-Validation ROC-AUC Scores:\", cv_scores)\n",
    "print(\"Mean ROC-AUC Score:\", cv_scores.mean())\n",
    "print(\"Standard Deviation of ROC-AUC Scores:\", cv_scores.std())"
   ]
  },
  {
   "cell_type": "markdown",
   "metadata": {},
   "source": [
    "# Interpretability of the LR model: Shap values"
   ]
  },
  {
   "cell_type": "code",
   "execution_count": 19,
   "metadata": {},
   "outputs": [
    {
     "name": "stdout",
     "output_type": "stream",
     "text": [
      "Number of feature names: 26\n",
      "All Feature Names: ['Gender_Male', 'Department_Development', 'Department_Management', 'Department_QA', 'Department_Support', 'Overtime_Yes', 'Age', 'Tenure', 'Salary', 'Distance_to_Work', 'Q1', 'Q2', 'Q3', 'Q4', 'Q5', 'Q6', 'Q7', 'Q8', 'Q9', 'Q10', 'Q11', 'Q12', 'Q13', 'Q14', 'Q15', 'Q16']\n"
     ]
    }
   ],
   "source": [
    "# Get feature names for one-hot-encoded columns\n",
    "one_hot_feature_names = preprocessor.named_transformers_['cat'].get_feature_names_out(categorical_features)\n",
    "\n",
    "# Identify the Q12+ feature names (assuming they are in the original DataFrame)\n",
    "q12_features = [col for col in X.columns if col.startswith('Q')]\n",
    "\n",
    "# Combine all feature names: one-hot encoded, numerical, and Q12+\n",
    "all_feature_names = list(one_hot_feature_names) + numerical_features + q12_features\n",
    "\n",
    "# Verify the feature names and length\n",
    "print(\"Number of feature names:\", len(all_feature_names))\n",
    "print(\"All Feature Names:\", all_feature_names)"
   ]
  },
  {
   "cell_type": "code",
   "execution_count": 20,
   "metadata": {},
   "outputs": [
    {
     "name": "stdout",
     "output_type": "stream",
     "text": [
      "SHAP Values Shape: (1000, 26)\n"
     ]
    },
    {
     "name": "stderr",
     "output_type": "stream",
     "text": [
      "c:\\Users\\alexa\\anaconda3\\envs\\employee_attrition_dec24\\lib\\site-packages\\shap\\explainers\\_linear.py:95: FutureWarning: The feature_perturbation option is now deprecated in favor of using the appropriate masker (maskers.Independent, maskers.Partition or maskers.Impute).\n",
      "  warnings.warn(wmsg, FutureWarning)\n"
     ]
    },
    {
     "data": {
      "image/png": "[encoded data removed]",
      "text/plain": [
       "<Figure size 800x950 with 2 Axes>"
      ]
     },
     "metadata": {},
     "output_type": "display_data"
    }
   ],
   "source": [
    "# Create SHAP explainer\n",
    "explainer = shap.LinearExplainer(best_lr, X_train_encoded, feature_perturbation=\"interventional\")\n",
    "\n",
    "# Compute SHAP values for the test set\n",
    "shap_values = explainer.shap_values(X_test_encoded)\n",
    "\n",
    "# Print SHAP Values Shape\n",
    "print(\"SHAP Values Shape:\", shap_values.shape)\n",
    "\n",
    "# Visualize SHAP summary plot\n",
    "shap.summary_plot(\n",
    "    shap_values,\n",
    "    X_test_encoded,\n",
    "    feature_names=all_feature_names\n",
    ")"
   ]
  },
  {
   "cell_type": "markdown",
   "metadata": {},
   "source": [
    "# Saving preprocessor,model and threshold"
   ]
  },
  {
   "cell_type": "code",
   "execution_count": 21,
   "metadata": {},
   "outputs": [
    {
     "name": "stdout",
     "output_type": "stream",
     "text": [
      "Model saved at: C:\\Users\\alexa\\OneDrive\\AlexPerez\\Dokumente\\2 Soros\\Data Science\\Projects\\employee_attrition_Dec24\\models\\logistic_regression_model.pkl\n",
      "Threshold saved at: C:\\Users\\alexa\\OneDrive\\AlexPerez\\Dokumente\\2 Soros\\Data Science\\Projects\\employee_attrition_Dec24\\models\\logistic_regression_threshold.pkl\n",
      "Preprocessor saved at: C:\\Users\\alexa\\OneDrive\\AlexPerez\\Dokumente\\2 Soros\\Data Science\\Projects\\employee_attrition_Dec24\\models\\preprocessor.pkl\n"
     ]
    }
   ],
   "source": [
    "# Paths to save the model, threshold, and preprocessor\n",
    "model_path = r\"C:\\Users\\alexa\\OneDrive\\AlexPerez\\Dokumente\\2 Soros\\Data Science\\Projects\\employee_attrition_Dec24\\models\\logistic_regression_model.pkl\"\n",
    "threshold_path = r\"C:\\Users\\alexa\\OneDrive\\AlexPerez\\Dokumente\\2 Soros\\Data Science\\Projects\\employee_attrition_Dec24\\models\\logistic_regression_threshold.pkl\"\n",
    "preprocessor_path = r\"C:\\Users\\alexa\\OneDrive\\AlexPerez\\Dokumente\\2 Soros\\Data Science\\Projects\\employee_attrition_Dec24\\models\\preprocessor.pkl\"\n",
    "\n",
    "# Save the model\n",
    "joblib.dump(best_lr, model_path)\n",
    "print(f\"Model saved at: {model_path}\")\n",
    "\n",
    "# Save the threshold (adjusted at 0.3)\n",
    "final_threshold = 0.3\n",
    "joblib.dump(final_threshold, threshold_path)\n",
    "print(f\"Threshold saved at: {threshold_path}\")\n",
    "\n",
    "# Save preprocessor\n",
    "joblib.dump(preprocessor, preprocessor_path)\n",
    "print(f\"Preprocessor saved at: {preprocessor_path}\")"
   ]
  },
  {
   "cell_type": "markdown",
   "metadata": {},
   "source": [
    "# Testing save model before using Streamlit"
   ]
  },
  {
   "cell_type": "code",
   "execution_count": 22,
   "metadata": {},
   "outputs": [
    {
     "name": "stdout",
     "output_type": "stream",
     "text": [
      "Expected Feature Order: ['Gender_Male', 'Department_Development', 'Department_Management', 'Department_QA', 'Department_Support', 'Overtime_Yes', 'Age', 'Tenure', 'Salary', 'Distance_to_Work', 'Q1', 'Q2', 'Q3', 'Q4', 'Q5', 'Q6', 'Q7', 'Q8', 'Q9', 'Q10', 'Q11', 'Q12', 'Q13', 'Q14', 'Q15', 'Q16']\n",
      "Number of Features: 26\n"
     ]
    }
   ],
   "source": [
    "print(\"Expected Feature Order:\", all_feature_names)\n",
    "print(\"Number of Features:\", len(all_feature_names))"
   ]
  },
  {
   "cell_type": "code",
   "execution_count": 23,
   "metadata": {},
   "outputs": [
    {
     "name": "stdout",
     "output_type": "stream",
     "text": [
      "Attrition Prediction: No\n",
      "Probability of Attrition: 0.00%\n"
     ]
    }
   ],
   "source": [
    "import joblib\n",
    "import numpy as np\n",
    "import pandas as pd\n",
    "\n",
    "# Load the saved logistic regression model, threshold, and preprocessor\n",
    "model_path = r\"C:\\Users\\alexa\\OneDrive\\AlexPerez\\Dokumente\\2 Soros\\Data Science\\Projects\\employee_attrition_Dec24\\models\\logistic_regression_model.pkl\"\n",
    "threshold_path = r\"C:\\Users\\alexa\\OneDrive\\AlexPerez\\Dokumente\\2 Soros\\Data Science\\Projects\\employee_attrition_Dec24\\models\\logistic_regression_threshold.pkl\"\n",
    "preprocessor_path = r\"C:\\Users\\alexa\\OneDrive\\AlexPerez\\Dokumente\\2 Soros\\Data Science\\Projects\\employee_attrition_Dec24\\models\\preprocessor.pkl\"\n",
    "\n",
    "model = joblib.load(model_path)\n",
    "threshold = joblib.load(threshold_path)\n",
    "preprocessor = joblib.load(preprocessor_path)\n",
    "\n",
    "# Example input values (before preprocessing)\n",
    "example_input_raw = {\n",
    "    \"Gender\": \"Female\",\n",
    "    \"Department\": \"DevOps\",  # Choose among \"Development\", \"QA\", \"Support\", \"Management\", \"DevOps\"\n",
    "    \"Overtime\": \"Yes\",\n",
    "    \"Age\": 45,\n",
    "    \"Tenure\": 2,\n",
    "    \"Salary\": 100000,\n",
    "    \"Distance_to_Work\": 10,\n",
    "    \"Q1\": 5, \"Q2\": 5, \"Q3\": 4, \"Q4\": 4, \"Q5\": 3, \"Q6\": 3, \"Q7\": 5, \"Q8\": 5,\n",
    "    \"Q9\": 4, \"Q10\": 1, \"Q11\": 1, \"Q12\": 1, \"Q13\": 5, \"Q14\": 5, \"Q15\": 4, \"Q16\": 5\n",
    "}\n",
    "\n",
    "# Convert the input dictionary into a pandas DataFrame\n",
    "example_input_df = pd.DataFrame([example_input_raw])\n",
    "\n",
    "# Preprocess the input using the saved preprocessor\n",
    "example_input_encoded = preprocessor.transform(example_input_df)\n",
    "\n",
    "# Predict attrition\n",
    "prob = model.predict_proba(example_input_encoded)[0][1]  # Probability of attrition (class 1)\n",
    "prediction = 1 if prob >= threshold else 0\n",
    "print(f\"Attrition Prediction: {'Yes' if prediction == 1 else 'No'}\")\n",
    "print(f\"Probability of Attrition: {prob * 100:.2f}%\")\n"
   ]
  },
  {
   "cell_type": "code",
   "execution_count": 24,
   "metadata": {},
   "outputs": [
    {
     "name": "stdout",
     "output_type": "stream",
     "text": [
      "Encoded Input Shape: (1, 26)\n",
      "Encoded Input: [[0.0e+00 0.0e+00 0.0e+00 0.0e+00 0.0e+00 1.0e+00 5.0e+00 5.0e+00 4.0e+00\n",
      "  4.0e+00 3.0e+00 3.0e+00 5.0e+00 5.0e+00 4.0e+00 1.0e+00 1.0e+00 1.0e+00\n",
      "  5.0e+00 5.0e+00 4.0e+00 5.0e+00 4.5e+01 2.0e+00 1.0e+05 1.0e+01]]\n",
      "Attrition Prediction: No\n",
      "Probability of Attrition: 0.00%\n"
     ]
    }
   ],
   "source": [
    "# Another test\n",
    "\n",
    "import joblib\n",
    "import pandas as pd\n",
    "import numpy as np\n",
    "\n",
    "# Paths to the saved model, threshold, and preprocessor\n",
    "model_path = r\"C:\\Users\\alexa\\OneDrive\\AlexPerez\\Dokumente\\2 Soros\\Data Science\\Projects\\employee_attrition_Dec24\\models\\logistic_regression_model.pkl\"\n",
    "threshold_path = r\"C:\\Users\\alexa\\OneDrive\\AlexPerez\\Dokumente\\2 Soros\\Data Science\\Projects\\employee_attrition_Dec24\\models\\logistic_regression_threshold.pkl\"\n",
    "preprocessor_path = r\"C:\\Users\\alexa\\OneDrive\\AlexPerez\\Dokumente\\2 Soros\\Data Science\\Projects\\employee_attrition_Dec24\\models\\preprocessor.pkl\"\n",
    "\n",
    "# Load the saved model, threshold, and preprocessor\n",
    "model = joblib.load(model_path)\n",
    "threshold = joblib.load(threshold_path)\n",
    "preprocessor = joblib.load(preprocessor_path)\n",
    "\n",
    "# Define a test case with DevOps\n",
    "raw_input_data = pd.DataFrame({\n",
    "    \"Gender\": [\"Female\"],  # Female encoded as 0\n",
    "    \"Department\": [\"DevOps\"],  # This should ensure all other department columns are 0\n",
    "    \"Overtime\": [\"Yes\"],  # Yes encoded as 1\n",
    "    \"Age\": [45],  # Example age\n",
    "    \"Tenure\": [2],  # Example tenure\n",
    "    \"Salary\": [100000],  # Example salary\n",
    "    \"Distance_to_Work\": [10],  # Example distance\n",
    "    \"Q1\": [5], \"Q2\": [5], \"Q3\": [4], \"Q4\": [4], \"Q5\": [3], \"Q6\": [3], \n",
    "    \"Q7\": [5], \"Q8\": [5], \"Q9\": [4], \"Q10\": [1], \"Q11\": [1], \"Q12\": [1], \n",
    "    \"Q13\": [5], \"Q14\": [5], \"Q15\": [4], \"Q16\": [5]  # Example Q12+ responses\n",
    "})\n",
    "\n",
    "# Encode the input using the preprocessor\n",
    "encoded_input = preprocessor.transform(raw_input_data)\n",
    "\n",
    "# Verify encoded input shape and structure\n",
    "print(\"Encoded Input Shape:\", encoded_input.shape)\n",
    "print(\"Encoded Input:\", encoded_input)\n",
    "\n",
    "# Predict probabilities using the model\n",
    "prob = model.predict_proba(encoded_input)[0][1]  # Probability of attrition (class 1)\n",
    "prediction = 1 if prob >= threshold else 0\n",
    "\n",
    "# Output the results\n",
    "print(f\"Attrition Prediction: {'Yes' if prediction == 1 else 'No'}\")\n",
    "print(f\"Probability of Attrition: {prob * 100:.2f}%\")\n"
   ]
  },
  {
   "cell_type": "markdown",
   "metadata": {},
   "source": [
    "## Debugging checks"
   ]
  },
  {
   "cell_type": "code",
   "execution_count": 25,
   "metadata": {},
   "outputs": [
    {
     "name": "stdout",
     "output_type": "stream",
     "text": [
      "Raw Input:\n",
      "   Gender Department Overtime  Age  Tenure  Salary  Distance_to_Work  Q1  Q2  \\\n",
      "0  Female     DevOps      Yes   45       2  100000                10   5   5   \n",
      "\n",
      "   Q3  Q4  Q5  Q6  Q7  Q8  Q9  Q10  Q11  Q12  Q13  Q14  Q15  Q16  \n",
      "0   4   4   3   3   5   5   4    1    1    1    5    5    4    5  \n",
      "\n",
      "Encoded Input (After Preprocessing):\n",
      "[[0.0e+00 0.0e+00 0.0e+00 0.0e+00 0.0e+00 1.0e+00 5.0e+00 5.0e+00 4.0e+00\n",
      "  4.0e+00 3.0e+00 3.0e+00 5.0e+00 5.0e+00 4.0e+00 1.0e+00 1.0e+00 1.0e+00\n",
      "  5.0e+00 5.0e+00 4.0e+00 5.0e+00 4.5e+01 2.0e+00 1.0e+05 1.0e+01]]\n"
     ]
    }
   ],
   "source": [
    "#1- Verify preprocessing pipeline: Ensure the preprocessor is working correctly by checking the encoded input and confirming the alignment of features\n",
    "\n",
    "print(\"Raw Input:\")\n",
    "print(example_input_df)\n",
    "print(\"\\nEncoded Input (After Preprocessing):\")\n",
    "print(example_input_encoded)\n"
   ]
  },
  {
   "cell_type": "code",
   "execution_count": 26,
   "metadata": {},
   "outputs": [
    {
     "name": "stdout",
     "output_type": "stream",
     "text": [
      "Feature Names from Preprocessor: ['cat__Gender_Male' 'cat__Department_Development'\n",
      " 'cat__Department_Management' 'cat__Department_QA'\n",
      " 'cat__Department_Support' 'cat__Overtime_Yes' 'remainder__Q1'\n",
      " 'remainder__Q2' 'remainder__Q3' 'remainder__Q4' 'remainder__Q5'\n",
      " 'remainder__Q6' 'remainder__Q7' 'remainder__Q8' 'remainder__Q9'\n",
      " 'remainder__Q10' 'remainder__Q11' 'remainder__Q12' 'remainder__Q13'\n",
      " 'remainder__Q14' 'remainder__Q15' 'remainder__Q16' 'remainder__Age'\n",
      " 'remainder__Tenure' 'remainder__Salary' 'remainder__Distance_to_Work']\n"
     ]
    }
   ],
   "source": [
    "print(\"Feature Names from Preprocessor:\", preprocessor.get_feature_names_out())\n"
   ]
  },
  {
   "cell_type": "code",
   "execution_count": 27,
   "metadata": {},
   "outputs": [
    {
     "name": "stdout",
     "output_type": "stream",
     "text": [
      "Testing with training data:\n",
      "Sample Probabilities: [0.22891277 0.15452413 0.34590685 0.168466   0.71410088]\n"
     ]
    }
   ],
   "source": [
    "#2. Inspect models performance: Test model in notebook to verify it produces varying probabilies \n",
    "\n",
    "print(\"Testing with training data:\")\n",
    "X_train_sample = X_train_encoded[:5]  # A small sample of the encoded training data\n",
    "y_pred_train_prob = model.predict_proba(X_train_sample)[:, 1]\n",
    "print(\"Sample Probabilities:\", y_pred_train_prob)\n"
   ]
  },
  {
   "cell_type": "code",
   "execution_count": 28,
   "metadata": {},
   "outputs": [
    {
     "name": "stdout",
     "output_type": "stream",
     "text": [
      "Expected Feature Order from Preprocessor:\n",
      "['cat__Gender_Male' 'cat__Department_Development'\n",
      " 'cat__Department_Management' 'cat__Department_QA'\n",
      " 'cat__Department_Support' 'cat__Overtime_Yes' 'remainder__Q1'\n",
      " 'remainder__Q2' 'remainder__Q3' 'remainder__Q4' 'remainder__Q5'\n",
      " 'remainder__Q6' 'remainder__Q7' 'remainder__Q8' 'remainder__Q9'\n",
      " 'remainder__Q10' 'remainder__Q11' 'remainder__Q12' 'remainder__Q13'\n",
      " 'remainder__Q14' 'remainder__Q15' 'remainder__Q16' 'remainder__Age'\n",
      " 'remainder__Tenure' 'remainder__Salary' 'remainder__Distance_to_Work']\n"
     ]
    }
   ],
   "source": [
    "#3. Check feature order: Ensure the feature order of example_input_encoded matches the model’s expectations\n",
    "\n",
    "\n",
    "print(\"Expected Feature Order from Preprocessor:\")\n",
    "print(preprocessor.get_feature_names_out())\n"
   ]
  },
  {
   "cell_type": "code",
   "execution_count": 29,
   "metadata": {},
   "outputs": [
    {
     "name": "stdout",
     "output_type": "stream",
     "text": [
      "Probability of Attrition: 0.0\n",
      "Threshold: 0.3\n"
     ]
    }
   ],
   "source": [
    "#4. Examine threshold logic: is the threshold being applied correctly?\n",
    "\n",
    "print(\"Probability of Attrition:\", prob)\n",
    "print(\"Threshold:\", threshold)\n"
   ]
  },
  {
   "cell_type": "code",
   "execution_count": 30,
   "metadata": {},
   "outputs": [
    {
     "name": "stdout",
     "output_type": "stream",
     "text": [
      "Training Sample Prediction: No\n",
      "Training Sample Probability: 22.89%\n"
     ]
    }
   ],
   "source": [
    "#5.Test model with known training data\n",
    "\n",
    "train_sample_encoded = X_train_encoded[:1]  # First row of training data\n",
    "train_sample_prob = model.predict_proba(train_sample_encoded)[0][1]\n",
    "train_sample_pred = model.predict(train_sample_encoded)[0]\n",
    "print(f\"Training Sample Prediction: {'Yes' if train_sample_pred == 1 else 'No'}\")\n",
    "print(f\"Training Sample Probability: {train_sample_prob * 100:.2f}%\")\n"
   ]
  },
  {
   "cell_type": "code",
   "execution_count": 31,
   "metadata": {},
   "outputs": [
    {
     "name": "stdout",
     "output_type": "stream",
     "text": [
      "Model Coefficients: [[-0.00399098 -0.10927426  0.01868363  0.02691478 -0.02525897  0.04022209\n",
      "  -0.00061915 -0.10823198 -0.00430527 -0.00530183 -0.09016752 -0.02836164\n",
      "  -0.00754968 -0.0168063  -0.02920561 -0.00308208 -0.05480665 -0.08371315\n",
      "  -0.06786221 -0.11671858 -0.12505402 -0.03824284  0.03362346 -0.01591381\n",
      "  -0.07729973  0.07591166]]\n",
      "Intercept: [2.08049409]\n"
     ]
    }
   ],
   "source": [
    "#6. check the model's learned coefficients and intercept\n",
    "\n",
    "# Load the model\n",
    "model = joblib.load(model_path)\n",
    "\n",
    "# Check the coefficients and intercept\n",
    "print(\"Model Coefficients:\", model.coef_)\n",
    "print(\"Intercept:\", model.intercept_)\n"
   ]
  },
  {
   "cell_type": "code",
   "execution_count": 32,
   "metadata": {},
   "outputs": [
    {
     "name": "stdout",
     "output_type": "stream",
     "text": [
      "Encoded Input Shape: (1, 26)\n",
      "Encoded Input: [[0.0e+00 0.0e+00 0.0e+00 0.0e+00 0.0e+00 1.0e+00 5.0e+00 5.0e+00 4.0e+00\n",
      "  4.0e+00 3.0e+00 3.0e+00 5.0e+00 5.0e+00 4.0e+00 1.0e+00 1.0e+00 1.0e+00\n",
      "  5.0e+00 5.0e+00 4.0e+00 5.0e+00 4.5e+01 2.0e+00 1.0e+05 1.0e+01]]\n"
     ]
    }
   ],
   "source": [
    "#7. Test preprocessed inputs\n",
    "\n",
    "# Encode the raw input data\n",
    "encoded_input = preprocessor.transform(raw_input_data)\n",
    "\n",
    "# Check the encoded inputs\n",
    "print(\"Encoded Input Shape:\", encoded_input.shape)\n",
    "print(\"Encoded Input:\", encoded_input)\n"
   ]
  },
  {
   "cell_type": "code",
   "execution_count": 33,
   "metadata": {},
   "outputs": [
    {
     "name": "stdout",
     "output_type": "stream",
     "text": [
      "Predicted Probabilities on Test Set: [0.75743284 0.18321348 0.16156452 0.1698443  0.30846894 0.37184118\n",
      " 0.7436208  0.67850873 0.28058958 0.72041315]\n"
     ]
    }
   ],
   "source": [
    "#8 Use test data from the notebook\n",
    "y_pred_test = model.predict_proba(X_test_encoded)[:, 1]  # Predicted probabilities\n",
    "print(\"Predicted Probabilities on Test Set:\", y_pred_test[:10])  # Show first 10 predictions\n"
   ]
  },
  {
   "cell_type": "code",
   "execution_count": 34,
   "metadata": {},
   "outputs": [
    {
     "name": "stdout",
     "output_type": "stream",
     "text": [
      "Loaded Threshold: 0.3\n",
      "Prediction for Probability 0.6: Yes\n"
     ]
    }
   ],
   "source": [
    "#9 Check treshold application\n",
    "\n",
    "# Load the threshold and test it\n",
    "threshold = joblib.load(threshold_path)\n",
    "print(\"Loaded Threshold:\", threshold)\n",
    "\n",
    "# Apply the threshold to a known probability\n",
    "test_prob = 0.6  # Example probability\n",
    "prediction = 1 if test_prob >= threshold else 0\n",
    "print(f\"Prediction for Probability {test_prob}: {'Yes' if prediction == 1 else 'No'}\")\n"
   ]
  },
  {
   "cell_type": "code",
   "execution_count": null,
   "metadata": {},
   "outputs": [],
   "source": []
  },
  {
   "cell_type": "code",
   "execution_count": null,
   "metadata": {},
   "outputs": [],
   "source": []
  }
 ],
 "metadata": {
  "kernelspec": {
   "display_name": "employee_attrition_dec24",
   "language": "python",
   "name": "python3"
  },
  "language_info": {
   "codemirror_mode": {
    "name": "ipython",
    "version": 3
   },
   "file_extension": ".py",
   "mimetype": "text/x-python",
   "name": "python",
   "nbconvert_exporter": "python",
   "pygments_lexer": "ipython3",
   "version": "3.9.21"
  }
 },
 "nbformat": 4,
 "nbformat_minor": 2
}
